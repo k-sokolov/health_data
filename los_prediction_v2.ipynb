{
 "cells": [
  {
   "cell_type": "markdown",
   "metadata": {},
   "source": [
    "### Trying to predict length of stay(LoS) from reason of admission, age, clinic, month and season of admission and disease group of the main diagnose (by letter of ICD code). \n",
    "\n",
    "Looking only at those patients that stay > 1 and < 11 days. Mean LoS of all data is 7 days and 75% of stays are shorter than 8 days\n",
    "\n",
    "as data is coming a from private source, it cannot be disclosed"
   ]
  },
  {
   "cell_type": "code",
   "execution_count": 1,
   "metadata": {
    "collapsed": true
   },
   "outputs": [],
   "source": [
    "import pandas as pd\n",
    "import numpy as np"
   ]
  },
  {
   "cell_type": "code",
   "execution_count": 13,
   "metadata": {
    "collapsed": true
   },
   "outputs": [],
   "source": [
    "data = pd.read_csv('data.csv')"
   ]
  },
  {
   "cell_type": "code",
   "execution_count": 14,
   "metadata": {
    "collapsed": true
   },
   "outputs": [],
   "source": [
    "data.drop_duplicates('record_id', keep='first', inplace=True)"
   ]
  },
  {
   "cell_type": "code",
   "execution_count": 22,
   "metadata": {},
   "outputs": [
    {
     "name": "stdout",
     "output_type": "stream",
     "text": [
      " we have 295618 records\n"
     ]
    }
   ],
   "source": [
    "from sklearn.preprocessing import LabelEncoder\n",
    "\n",
    "le1, le2 = LabelEncoder(), LabelEncoder()\n",
    "\n",
    "data['icd_group'] = le1.fit_transform(data['icd_group'].values)\n",
    "data['aufnahmeanlass'] = le2.fit_transform(data['aufnahmeanlass'].values)\n",
    "data.drop(data[data['duration'] == 0].index, inplace=True)\n",
    "data.drop(data[data['alter_in_jahren_am_aufnahmetag'] == 0].index, inplace=True)\n",
    "\n",
    "print(' we have {} records'.format(len(data)))"
   ]
  },
  {
   "cell_type": "code",
   "execution_count": 120,
   "metadata": {},
   "outputs": [
    {
     "data": {
      "text/plain": [
       "array([4], dtype=int32)"
      ]
     },
     "execution_count": 120,
     "metadata": {},
     "output_type": "execute_result"
    }
   ],
   "source": [
    "#getting the codes of icd groups back\n",
    "le1.transform(['E'])"
   ]
  },
  {
   "cell_type": "code",
   "execution_count": 24,
   "metadata": {},
   "outputs": [
    {
     "name": "stdout",
     "output_type": "stream",
     "text": [
      " we have 240519 records with LoS between 1 and 11 days\n"
     ]
    },
    {
     "name": "stderr",
     "output_type": "stream",
     "text": [
      "C:\\Users\\S\\Anaconda3\\lib\\site-packages\\ipykernel\\__main__.py:4: SettingWithCopyWarning: \n",
      "A value is trying to be set on a copy of a slice from a DataFrame\n",
      "\n",
      "See the caveats in the documentation: http://pandas.pydata.org/pandas-docs/stable/indexing.html#indexing-view-versus-copy\n"
     ]
    }
   ],
   "source": [
    "#take only patients that stayed less than 11 days but at least 1 day\n",
    "data1 = data[(data['duration'] < 11)] \n",
    "duration1 = data1['duration'].values\n",
    "data1.drop(['Unnamed: 0', 'duration'], axis=1, inplace=True)\n",
    "print(' we have {} records with LoS between 1 and 11 days'.format(len(data1)))"
   ]
  },
  {
   "cell_type": "code",
   "execution_count": 17,
   "metadata": {},
   "outputs": [
    {
     "data": {
      "text/plain": [
       "0.8136141912874046"
      ]
     },
     "execution_count": 17,
     "metadata": {},
     "output_type": "execute_result"
    }
   ],
   "source": [
    "#proportion of patients staying less tan 11 days but at least 1 day\n",
    "len(data1)/len(data)"
   ]
  },
  {
   "cell_type": "code",
   "execution_count": 8,
   "metadata": {},
   "outputs": [],
   "source": [
    "from sklearn.ensemble import RandomForestRegressor\n",
    "seed = 7\n",
    "\n",
    "from sklearn.model_selection import train_test_split \n",
    "\n",
    "train_x,test_x, train_y, test_y = train_test_split(data1.iloc[:,2:].values, duration1,\n",
    "                                                   test_size=0.33, random_state=seed)\n",
    "rf = RandomForestRegressor(max_depth=12, n_estimators=100, criterion='mse', n_jobs=-1, random_state=seed, verbose=1)"
   ]
  },
  {
   "cell_type": "code",
   "execution_count": 156,
   "metadata": {},
   "outputs": [
    {
     "name": "stderr",
     "output_type": "stream",
     "text": [
      "[Parallel(n_jobs=-1)]: Done  46 tasks      | elapsed:   25.3s\n",
      "[Parallel(n_jobs=-1)]: Done 100 out of 100 | elapsed:   52.9s finished\n"
     ]
    },
    {
     "data": {
      "text/plain": [
       "RandomForestRegressor(bootstrap=True, criterion='mse', max_depth=12,\n",
       "           max_features='auto', max_leaf_nodes=None,\n",
       "           min_impurity_split=1e-07, min_samples_leaf=1,\n",
       "           min_samples_split=2, min_weight_fraction_leaf=0.0,\n",
       "           n_estimators=100, n_jobs=-1, oob_score=False, random_state=7,\n",
       "           verbose=1, warm_start=False)"
      ]
     },
     "execution_count": 156,
     "metadata": {},
     "output_type": "execute_result"
    }
   ],
   "source": [
    "rf.fit(train_x, train_y)"
   ]
  },
  {
   "cell_type": "code",
   "execution_count": 157,
   "metadata": {},
   "outputs": [
    {
     "name": "stderr",
     "output_type": "stream",
     "text": [
      "[Parallel(n_jobs=2)]: Done  46 tasks      | elapsed:    0.8s\n",
      "[Parallel(n_jobs=2)]: Done 100 out of 100 | elapsed:    1.7s finished\n"
     ]
    },
    {
     "name": "stdout",
     "output_type": "stream",
     "text": [
      "1.83518028317\n"
     ]
    },
    {
     "name": "stderr",
     "output_type": "stream",
     "text": [
      "[Parallel(n_jobs=2)]: Done  46 tasks      | elapsed:    0.3s\n",
      "[Parallel(n_jobs=2)]: Done 100 out of 100 | elapsed:    0.8s finished\n"
     ]
    },
    {
     "name": "stdout",
     "output_type": "stream",
     "text": [
      "1.8960053116\n"
     ]
    }
   ],
   "source": [
    "from sklearn.metrics import mean_absolute_error\n",
    "\n",
    "print(mean_absolute_error(train_y, rf.predict(train_x)))\n",
    "print(mean_absolute_error(test_y, rf.predict(test_x)))"
   ]
  },
  {
   "cell_type": "markdown",
   "metadata": {},
   "source": [
    "We are ~2 days off when predicting LoS for those that stay < 11 days"
   ]
  },
  {
   "cell_type": "code",
   "execution_count": 158,
   "metadata": {},
   "outputs": [
    {
     "data": {
      "text/plain": [
       "[('aufnahmeanlass', 0.022895805047159559),\n",
       " ('alter_in_jahren_am_aufnahmetag', 0.40511244902384641),\n",
       " ('clinic_id', 0.092023937932102201),\n",
       " ('aufnahmegrund', 0.16228628297978662),\n",
       " ('month', 0.060762018624316128),\n",
       " ('season', 0.016958308518769581),\n",
       " ('clinic_bin', 0.016240319454861107),\n",
       " ('icd_group', 0.22372087841915864)]"
      ]
     },
     "execution_count": 158,
     "metadata": {},
     "output_type": "execute_result"
    }
   ],
   "source": [
    "list(zip(data1.columns[2:], rf.feature_importances_))"
   ]
  },
  {
   "cell_type": "markdown",
   "metadata": {},
   "source": [
    "Disease group, reason of admission and age are 3 best predictors"
   ]
  },
  {
   "cell_type": "code",
   "execution_count": 178,
   "metadata": {},
   "outputs": [
    {
     "name": "stdout",
     "output_type": "stream",
     "text": [
      "mean LoS < 11 days: 4.20803761864967 days\n"
     ]
    }
   ],
   "source": [
    "print('mean LoS < 11 days: {} days'.format(duration1.mean()))"
   ]
  },
  {
   "cell_type": "markdown",
   "metadata": {},
   "source": [
    "### Now what if we specify the desease a bit further, by taking the 3-digid icd code of the main diagnosis"
   ]
  },
  {
   "cell_type": "code",
   "execution_count": 18,
   "metadata": {},
   "outputs": [],
   "source": [
    "from config import db\n",
    "\n",
    "query = '''\n",
    "    SELECT DISTINCT record_id, icd_three\n",
    "    FROM icd_records \n",
    "    WHERE diagnoseart = 'HD' \n",
    "    \n",
    "    '''\n",
    "\n",
    "df = pd.read_sql(query, con=db)\n"
   ]
  },
  {
   "cell_type": "code",
   "execution_count": 25,
   "metadata": {},
   "outputs": [
    {
     "name": "stdout",
     "output_type": "stream",
     "text": [
      " we have 248720 records with LoS between 1 and 11 days\n"
     ]
    }
   ],
   "source": [
    "data3 = pd.merge(data, df, how='inner', on='record_id')\n",
    "le3 = LabelEncoder()\n",
    "\n",
    "data3['icd_three'] = le3.fit_transform(data3['icd_three'].values)\n",
    "\n",
    "data3 = data3[(data3['duration'] < 11)] \n",
    "duration3 = data3.duration.values\n",
    "data3.drop(['icd_group', 'Unnamed: 0', 'duration'], axis=1, inplace=True)\n",
    "print(' we have {} records with LoS between 1 and 11 days'.format(len(data3)))"
   ]
  },
  {
   "cell_type": "code",
   "execution_count": 18,
   "metadata": {},
   "outputs": [],
   "source": [
    "train_x3,test_x3, train_y3, test_y3 = train_test_split(data3.iloc[:,1:].values, duration3,\n",
    "                                                   test_size=0.33, random_state=seed)\n",
    "rf = RandomForestRegressor(max_depth=12, n_estimators=100, criterion='mse', n_jobs=-1, random_state=seed, verbose=1)\n"
   ]
  },
  {
   "cell_type": "code",
   "execution_count": 19,
   "metadata": {},
   "outputs": [
    {
     "name": "stderr",
     "output_type": "stream",
     "text": [
      "[Parallel(n_jobs=-1)]: Done  46 tasks      | elapsed:   26.7s\n",
      "[Parallel(n_jobs=-1)]: Done 100 out of 100 | elapsed:   59.6s finished\n"
     ]
    },
    {
     "data": {
      "text/plain": [
       "RandomForestRegressor(bootstrap=True, criterion='mse', max_depth=12,\n",
       "           max_features='auto', max_leaf_nodes=None,\n",
       "           min_impurity_split=1e-07, min_samples_leaf=1,\n",
       "           min_samples_split=2, min_weight_fraction_leaf=0.0,\n",
       "           n_estimators=100, n_jobs=-1, oob_score=False, random_state=7,\n",
       "           verbose=1, warm_start=False)"
      ]
     },
     "execution_count": 19,
     "metadata": {},
     "output_type": "execute_result"
    }
   ],
   "source": [
    "rf.fit(train_x3, train_y3)"
   ]
  },
  {
   "cell_type": "code",
   "execution_count": 20,
   "metadata": {},
   "outputs": [
    {
     "name": "stderr",
     "output_type": "stream",
     "text": [
      "[Parallel(n_jobs=2)]: Done  46 tasks      | elapsed:    0.7s\n",
      "[Parallel(n_jobs=2)]: Done 100 out of 100 | elapsed:    1.6s finished\n"
     ]
    },
    {
     "name": "stdout",
     "output_type": "stream",
     "text": [
      "1.6786488606\n"
     ]
    },
    {
     "name": "stderr",
     "output_type": "stream",
     "text": [
      "[Parallel(n_jobs=2)]: Done  46 tasks      | elapsed:    0.4s\n",
      "[Parallel(n_jobs=2)]: Done 100 out of 100 | elapsed:    0.9s finished\n"
     ]
    },
    {
     "name": "stdout",
     "output_type": "stream",
     "text": [
      "1.75920380522\n"
     ]
    }
   ],
   "source": [
    "print(mean_absolute_error(train_y3, rf.predict(train_x3)))\n",
    "print(mean_absolute_error(test_y3, rf.predict(test_x3)))"
   ]
  },
  {
   "cell_type": "markdown",
   "metadata": {},
   "source": [
    "The error is reduced but not much, the mean LoS stays the same 4.2 days"
   ]
  },
  {
   "cell_type": "code",
   "execution_count": 21,
   "metadata": {},
   "outputs": [
    {
     "data": {
      "text/plain": [
       "4.2104253779350271"
      ]
     },
     "execution_count": 21,
     "metadata": {},
     "output_type": "execute_result"
    }
   ],
   "source": [
    "duration3.mean()"
   ]
  },
  {
   "cell_type": "code",
   "execution_count": 23,
   "metadata": {},
   "outputs": [
    {
     "data": {
      "text/plain": [
       "[('aufnahmeanlass', 0.015394602417021643),\n",
       " ('alter_in_jahren_am_aufnahmetag', 0.27246264748035098),\n",
       " ('clinic_id', 0.081939274305180471),\n",
       " ('aufnahmegrund', 0.11460884618733401),\n",
       " ('month', 0.035708046591666681),\n",
       " ('season', 0.011074636977076476),\n",
       " ('clinic_bin', 0.0065808520902133931),\n",
       " ('icd_three', 0.46223109395115647)]"
      ]
     },
     "execution_count": 23,
     "metadata": {},
     "output_type": "execute_result"
    }
   ],
   "source": [
    "list(zip(data3.columns[1:], rf.feature_importances_))"
   ]
  },
  {
   "cell_type": "markdown",
   "metadata": {},
   "source": [
    "Twice more weight is put on the icd_three than on icd_group, suggesting that the feature is indeed discriminative"
   ]
  },
  {
   "cell_type": "markdown",
   "metadata": {},
   "source": [
    "### Next, trying to predict LoS for exact icd codes inside category I, diseases of circulatory system"
   ]
  },
  {
   "cell_type": "code",
   "execution_count": 20,
   "metadata": {},
   "outputs": [],
   "source": [
    "\n",
    "query = '''\n",
    "    SELECT DISTINCT record_id, icd_kode\n",
    "    FROM icd_records \n",
    "    WHERE diagnoseart = 'HD' AND icd_group = 'I'\n",
    "    \n",
    "    '''\n",
    "\n",
    "data_i = pd.read_sql(query, con=db)"
   ]
  },
  {
   "cell_type": "code",
   "execution_count": 26,
   "metadata": {},
   "outputs": [
    {
     "name": "stdout",
     "output_type": "stream",
     "text": [
      " we have 42900 records with LoS between 1 and 11 days and icd_group = \"I\"\n"
     ]
    }
   ],
   "source": [
    "data_heart = pd.merge(data, data_i, how='inner', on='record_id')\n",
    "le4 = LabelEncoder()\n",
    "\n",
    "data_heart['icd_kode'] = le4.fit_transform(data_heart['icd_kode'].values)\n",
    "data_heart = data_heart[(data_heart['duration'] < 11)]\n",
    "duration4 = data_heart.duration.values\n",
    "data_heart.drop(['icd_group', 'Unnamed: 0', 'duration'], axis=1, inplace=True)\n",
    "print(' we have {} records with LoS between 1 and 11 days and icd_group = \"I\"'.format(len(data_heart)))"
   ]
  },
  {
   "cell_type": "code",
   "execution_count": 19,
   "metadata": {},
   "outputs": [],
   "source": [
    "train_x4,test_x4, train_y4, test_y4 = train_test_split(data_heart.iloc[:,1:].values, duration4,\n",
    "                                                   test_size=0.33, random_state=seed)\n",
    "rf = RandomForestRegressor(max_depth=12, n_estimators=100, criterion='mse', n_jobs=-1, random_state=seed, verbose=1)"
   ]
  },
  {
   "cell_type": "code",
   "execution_count": 20,
   "metadata": {},
   "outputs": [
    {
     "name": "stderr",
     "output_type": "stream",
     "text": [
      "[Parallel(n_jobs=-1)]: Done  46 tasks      | elapsed:    2.3s\n",
      "[Parallel(n_jobs=-1)]: Done 100 out of 100 | elapsed:    5.3s finished\n",
      "[Parallel(n_jobs=2)]: Done  46 tasks      | elapsed:    0.1s\n",
      "[Parallel(n_jobs=2)]: Done 100 out of 100 | elapsed:    0.2s finished\n"
     ]
    },
    {
     "name": "stdout",
     "output_type": "stream",
     "text": [
      "1.60084030663\n",
      "1.84931063976\n"
     ]
    },
    {
     "name": "stderr",
     "output_type": "stream",
     "text": [
      "[Parallel(n_jobs=2)]: Done  46 tasks      | elapsed:    0.0s\n",
      "[Parallel(n_jobs=2)]: Done 100 out of 100 | elapsed:    0.1s finished\n"
     ]
    }
   ],
   "source": [
    "rf.fit(train_x4, train_y4)\n",
    "\n",
    "from sklearn.metrics import mean_absolute_error\n",
    "\n",
    "print(mean_absolute_error(train_y4, rf.predict(train_x4)))\n",
    "print(mean_absolute_error(test_y4, rf.predict(test_x4)))"
   ]
  },
  {
   "cell_type": "markdown",
   "metadata": {},
   "source": [
    "The same mean error of ~2 days "
   ]
  },
  {
   "cell_type": "code",
   "execution_count": 21,
   "metadata": {},
   "outputs": [
    {
     "data": {
      "text/plain": [
       "4.599254079254079"
      ]
     },
     "execution_count": 21,
     "metadata": {},
     "output_type": "execute_result"
    }
   ],
   "source": [
    "duration4.mean()"
   ]
  },
  {
   "cell_type": "markdown",
   "metadata": {},
   "source": [
    "With a mean of 4.6 days "
   ]
  },
  {
   "cell_type": "code",
   "execution_count": 22,
   "metadata": {},
   "outputs": [
    {
     "data": {
      "text/plain": [
       "[('aufnahmeanlass', 0.020927654141984373),\n",
       " ('alter_in_jahren_am_aufnahmetag', 0.18358119032521056),\n",
       " ('clinic_id', 0.078151177703175242),\n",
       " ('aufnahmegrund', 0.20069638324999939),\n",
       " ('month', 0.077888155574361823),\n",
       " ('season', 0.023865166716885784),\n",
       " ('clinic_bin', 0.010990796524561046),\n",
       " ('icd_kode', 0.40389947576382168)]"
      ]
     },
     "execution_count": 22,
     "metadata": {},
     "output_type": "execute_result"
    }
   ],
   "source": [
    "list(zip(data_heart.columns[1:], rf.feature_importances_))"
   ]
  },
  {
   "cell_type": "markdown",
   "metadata": {},
   "source": [
    "## Conclusions\n",
    "Trying to predict LoS of patients from the data that is available at the beginning of their stay proved to be possible for those stays that are less than 11 days, which comprise the majority of cases. The 2-day error of prediction is similar when using  all data and a specific subgroup of deseases (icd I)"
   ]
  },
  {
   "cell_type": "code",
   "execution_count": null,
   "metadata": {
    "collapsed": true
   },
   "outputs": [],
   "source": []
  }
 ],
 "metadata": {
  "kernelspec": {
   "display_name": "Python [conda root]",
   "language": "python",
   "name": "conda-root-py"
  },
  "language_info": {
   "codemirror_mode": {
    "name": "ipython",
    "version": 3
   },
   "file_extension": ".py",
   "mimetype": "text/x-python",
   "name": "python",
   "nbconvert_exporter": "python",
   "pygments_lexer": "ipython3",
   "version": "3.5.3"
  }
 },
 "nbformat": 4,
 "nbformat_minor": 2
}
